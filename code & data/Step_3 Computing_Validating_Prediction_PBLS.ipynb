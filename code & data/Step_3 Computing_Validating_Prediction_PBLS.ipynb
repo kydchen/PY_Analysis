{
  "cells": [
    {
      "cell_type": "code",
      "execution_count": null,
      "metadata": {
        "id": "w6OjxxNB04xR"
      },
      "outputs": [],
      "source": [
        "import json\n",
        "import pandas as pd\n",
        "from collections import defaultdict\n",
        "import itertools\n",
        "from datetime import datetime, timedelta\n",
        "from sklearn.preprocessing import LabelEncoder, MinMaxScaler\n",
        "import numpy as np\n",
        "import pickle\n",
        "import os\n",
        "from collections import defaultdict\n",
        "import re\n",
        "import matplotlib.pyplot as plt\n",
        "from matplotlib.patches import Patch\n",
        "from collections import defaultdict\n",
        "!pip install openai\n",
        "from openai import OpenAI\n",
        "from google.colab import userdata\n",
        "from sklearn.model_selection import train_test_split\n",
        "from sklearn.metrics import accuracy_score, precision_score, recall_score, f1_score"
      ]
    },
    {
      "cell_type": "code",
      "execution_count": 2,
      "metadata": {
        "id": "ffZ83BKY07if"
      },
      "outputs": [],
      "source": [
        "with open('./data/politics_users_profile_api2.json', 'r', encoding='utf-8') as file:\n",
        "    politics_users_profile = json.load(file)\n",
        "with open('./data/events_details.json', 'r', encoding='utf-8') as file:\n",
        "    Polymarket_events_details = json.load(file)\n",
        "with open('./data/markets_user_data_all.json', 'r', encoding='utf-8') as file:\n",
        "    all_users_overview = json.load(file)\n",
        "with open('./data/Categories.json', 'r', encoding='utf-8') as file: \n",
        "    data_categories = json.load(file)"
      ]
    },
    {
      "cell_type": "markdown",
      "metadata": {
        "id": "BTVuffipr9mU"
      },
      "source": [
        "# Pre-process"
      ]
    },
    {
      "cell_type": "code",
      "execution_count": 3,
      "metadata": {
        "id": "Abm9CLrN09TI"
      },
      "outputs": [],
      "source": [
        "# Createdate\n",
        "id_to_creationTimestamp = {user[\"id\"]: user[\"creationTimestamp\"] for user in all_users_overview}\n",
        "\n",
        "for user, details in politics_users_profile.items():\n",
        "    createdAt = details[\"profile\"].get(\"createdAt\")\n",
        "    if createdAt:\n",
        "        timestamp = datetime.strptime(createdAt, \"%Y-%m-%dT%H:%M:%S.%fZ\").timestamp()\n",
        "        details[\"profile\"][\"createdAt\"] = str(int(timestamp))\n",
        "    else:\n",
        "        proxyWallet = details[\"profile\"].get(\"proxyWallet\")\n",
        "        if proxyWallet in id_to_creationTimestamp:\n",
        "            details[\"profile\"][\"createdAt\"] = id_to_creationTimestamp[proxyWallet]\n",
        "        else:\n",
        "            activities = details.get(\"activities\", [])\n",
        "            if activities:\n",
        "                earliest_timestamp = min(activity[\"timestamp\"] for activity in activities if \"timestamp\" in activity)\n",
        "                details[\"profile\"][\"createdAt\"] = str(earliest_timestamp)\n",
        "\n",
        "# Calculate activities numbers\n",
        "for user, details in politics_users_profile.items():\n",
        "    details[\"activityNum\"] = len(details[\"activities\"])\n",
        "\n",
        "# Remove activities where type is not \"TRADE\"\n",
        "for user, details in politics_users_profile.items():\n",
        "    details[\"activities\"] = [activity for activity in details[\"activities\"] if activity[\"type\"] == \"TRADE\"]\n",
        "\n",
        "# Remove users with 0 activities\n",
        "politics_users_profile = {\n",
        "    profile_url: profile_data\n",
        "    for profile_url, profile_data in politics_users_profile.items()\n",
        "    if profile_data['activities']\n",
        "}\n",
        "\n",
        "# Obtain category id\n",
        "condition_to_category = {}  # conditionId - categories\n",
        "\n",
        "for event_url, event_details in Polymarket_events_details.items():\n",
        "    queries = event_details[\"props\"][\"pageProps\"][\"dehydratedState\"][\"queries\"]\n",
        "    for query in queries:\n",
        "        data = query[\"state\"][\"data\"]\n",
        "        if \"markets\" in data and \"categories\" in data:\n",
        "            categories = data[\"categories\"]\n",
        "            for market in data[\"markets\"]:\n",
        "                conditionId = market[\"conditionId\"]\n",
        "\n",
        "                if categories:\n",
        "                    condition_to_category[conditionId] = {\n",
        "                        \"categoryID\": categories[0][\"id\"],\n",
        "                        \"parentCategoryID\": categories[0][\"parentCategory\"]\n",
        "                    }\n",
        "\n",
        "for user, details in politics_users_profile.items():\n",
        "    for activity in details[\"activities\"]:\n",
        "        conditionId = activity[\"conditionId\"]\n",
        "\n",
        "        # resrch conditionId\n",
        "        if conditionId in condition_to_category:\n",
        "            activity.update(condition_to_category[conditionId])\n",
        "        else:\n",
        "            activity[\"categoryID\"] = 0\n",
        "            activity[\"parentCategoryID\"] = 0"
      ]
    },
    {
      "cell_type": "markdown",
      "metadata": {
        "id": "ghXyKxTPsCFn"
      },
      "source": [
        "## Fine-tuning"
      ]
    },
    {
      "cell_type": "code",
      "execution_count": 4,
      "metadata": {
        "id": "QQG8NLbEOKCZ"
      },
      "outputs": [],
      "source": [
        "# Fine-tuning to add missed categoryID\n",
        "data_items = []\n",
        "\n",
        "for user, details in politics_users_profile.items():\n",
        "    for activity in details['activities']:\n",
        "        if activity['categoryID'] != 0:\n",
        "            title = activity['title']\n",
        "            category_id = str(activity['categoryID'])\n",
        "            if (title, category_id) not in data_items:\n",
        "                data_items.append((title, category_id))\n",
        "\n",
        "\n",
        "titles, categories = zip(*data_items)\n",
        "titles_train, titles_val, categories_train, categories_val = train_test_split(\n",
        "    titles, categories, test_size=0.2, random_state=42\n",
        ")\n",
        "# train 4877\n",
        "with open('./data/temp/training_data.jsonl', 'w', encoding='utf-8') as file:\n",
        "    for title, category in zip(titles_train, categories_train):\n",
        "        line = {\"prompt\": title, \"completion\": category}\n",
        "        file.write(json.dumps(line) + '\\n')\n",
        "\n",
        "# valid 1220\n",
        "with open('./data/temp/validation_data.jsonl', 'w', encoding='utf-8') as file:\n",
        "    for title, category in zip(titles_val, categories_val):\n",
        "        line = {\"prompt\": title, \"completion\": category}\n",
        "        file.write(json.dumps(line) + '\\n')"
      ]
    },
    {
      "cell_type": "code",
      "execution_count": null,
      "metadata": {
        "colab": {
          "base_uri": "https://localhost:8080/"
        },
        "id": "sKa5P0mlUim0",
        "outputId": "a9b7ad66-2791-4c77-dec3-3657d1333e7f"
      },
      "outputs": [],
      "source": [
        "client = OpenAI(api_key=userdata.get('gpt')) # change to your API key\n",
        "\n",
        "client.files.create(\n",
        "  file=open(\"./data/temp/training_data.jsonl\", \"rb\"),\n",
        "  purpose=\"fine-tune\"\n",
        ")\n",
        "\n",
        "client.files.create(\n",
        "  file=open(\"./data/temp/validation_data.jsonl\", \"rb\"),\n",
        "  purpose=\"fine-tune\"\n",
        ")\n",
        "\n",
        "client.fine_tuning.jobs.create(\n",
        "  training_file=\"file-id\", # change to your file ID\n",
        "  validation_file =\"file-id\", # change to your file ID\n",
        "  model=\"babbage-002\" \n",
        ")"
      ]
    },
    {
      "cell_type": "code",
      "execution_count": null,
      "metadata": {
        "colab": {
          "base_uri": "https://localhost:8080/"
        },
        "id": "n9VyfgSOfv36",
        "outputId": "67285e35-0f9f-4e95-c72d-33b99b433ec9"
      },
      "outputs": [
        {
          "name": "stdout",
          "output_type": "stream",
          "text": [
            "Job status: succeeded\n"
          ]
        }
      ],
      "source": [
        "job_id = \"ftjob-id\" # change to your job ID\n",
        "\n",
        "job = client.fine_tuning.jobs.retrieve(job_id)\n",
        "print(f\"Job status: {job.status}\")\n",
        "if job.status == 'failed':\n",
        "    print(f\"Error message: {job.error.message}\")\n",
        "if job.status == 'succeeded':\n",
        "    fine_tune_results = client.fine_tuning.jobs.retrieve(job_id).result_files\n",
        "    result_file = client.files.retrieve(fine_tune_results[0])\n",
        "    content = client.files.content(result_file.id)\n",
        "    # save content to file\n",
        "    with open(\"./data/temp/fine_tuning_result.csv\", \"wb\") as f:\n",
        "        f.write(content.text.encode(\"utf-8\"))"
      ]
    },
    {
      "cell_type": "code",
      "execution_count": null,
      "metadata": {
        "id": "oD2pE39PqDVR"
      },
      "outputs": [],
      "source": [
        "ft_model = \"ft:babbage-002:personal::id\" # change to your fine-tuned model ID\n",
        "\n",
        "validation_prompts = []\n",
        "actual_labels = []\n",
        "\n",
        "with open(\"./data/temp/validation_data.jsonl\", \"r\", encoding=\"utf-8\") as file:\n",
        "    for line in file:\n",
        "        data = json.loads(line)\n",
        "        validation_prompts.append(data[\"prompt\"])\n",
        "        actual_labels.append(data[\"completion\"])\n",
        "\n",
        "predicted_labels = []\n",
        "\n",
        "for prompt in validation_prompts:\n",
        "    response = client.completions.create(\n",
        "        model=ft_model,\n",
        "        prompt=prompt,\n",
        "        max_tokens=2,  # figures like \"xxxx\" = 2 tokens\n",
        "        n=1,\n",
        "        temperature=0,\n",
        "    )\n",
        "    predicted_label = response.choices[0].text.strip()[:4]\n",
        "    predicted_labels.append(predicted_label)\n",
        "\n",
        "# predicted_labels is a list, save it to json\n",
        "with open(\"./data/temp/predicted_labels.json\", \"w\") as file:\n",
        "    json.dump(predicted_labels, file)"
      ]
    },
    {
      "cell_type": "code",
      "execution_count": null,
      "metadata": {
        "colab": {
          "base_uri": "https://localhost:8080/"
        },
        "id": "ly9zAsb4sfBX",
        "outputId": "8b3d49f5-08e0-4aed-9731-4aa7aa944359"
      },
      "outputs": [
        {
          "name": "stdout",
          "output_type": "stream",
          "text": [
            "Accuracy: 0.7426229508196721\n",
            "Precision: 0.7451876071903129\n",
            "Recall: 0.7426229508196721\n",
            "F1 Score: 0.7252284850323334\n"
          ]
        }
      ],
      "source": [
        "accuracy = accuracy_score(actual_labels, predicted_labels)\n",
        "precision = precision_score(actual_labels, predicted_labels, average='weighted', zero_division=0)\n",
        "recall = recall_score(actual_labels, predicted_labels, average='weighted', zero_division=0)\n",
        "f1 = f1_score(actual_labels, predicted_labels, average='weighted', zero_division=0)\n",
        "\n",
        "print(f\"Accuracy: {accuracy}\")\n",
        "print(f\"Precision: {precision}\")\n",
        "print(f\"Recall: {recall}\")\n",
        "print(f\"F1 Score: {f1}\")"
      ]
    },
    {
      "cell_type": "code",
      "execution_count": null,
      "metadata": {
        "id": "Vog8KYTqi5aZ"
      },
      "outputs": [],
      "source": [
        "# Use fine-tuned model to supplement id\n",
        "client = OpenAI(api_key=userdata.get('gpt')) # change to your API key\n",
        "ft_model = \"ft:babbage-002:personal::id\" # change to your fine-tuned model ID\n",
        "category_to_parent = {\n",
        "    cat[\"id\"]: cat.get(\"parentCategory\", cat[\"id\"]) for cat in data_categories\n",
        "}\n",
        "unique_titles_with_no_category = set()\n",
        "\n",
        "for user, details in politics_users_profile.items():\n",
        "    for activity in details[\"activities\"]:\n",
        "        if activity[\"categoryID\"] == 0:\n",
        "            unique_titles_with_no_category.add(activity['title'])\n",
        "\n",
        "def predict_category(title, fine_tuned_model):\n",
        "    response = client.completions.create(\n",
        "        model=fine_tuned_model,\n",
        "        prompt=title,\n",
        "        max_tokens=2,\n",
        "        n=1,\n",
        "        temperature=0,\n",
        "    )\n",
        "    return response.choices[0].text.strip()[:4]\n",
        "\n",
        "predicted_categories = {title: predict_category(title, ft_model) for title in unique_titles_with_no_category}\n",
        "\n",
        "for user, details in politics_users_profile.items():\n",
        "    for activity in details[\"activities\"]:\n",
        "        if activity[\"categoryID\"] == 0 and activity['title'] in predicted_categories:\n",
        "            predicted_cat_id = predicted_categories[activity['title']]\n",
        "            # whether in categories.json\n",
        "            if predicted_cat_id in category_to_parent:\n",
        "                activity[\"categoryID\"] = predicted_cat_id\n",
        "                activity[\"parentCategoryID\"] = category_to_parent[predicted_cat_id]\n",
        "            else:\n",
        "                activity[\"categoryID\"] = 0\n",
        "                activity[\"parentCategoryID\"] = 0\n",
        "                pass"
      ]
    },
    {
      "cell_type": "code",
      "execution_count": null,
      "metadata": {
        "id": "mtnYvoOPhcCU"
      },
      "outputs": [],
      "source": [
        "for user, details in politics_users_profile.items():\n",
        "    for activity in details[\"activities\"]:\n",
        "        if activity[\"categoryID\"] != 0 and activity[\"parentCategoryID\"] is None:\n",
        "            activity[\"parentCategoryID\"] = activity[\"categoryID\"]"
      ]
    },
    {
      "cell_type": "markdown",
      "metadata": {
        "id": "ugGsF01JAd2j"
      },
      "source": [
        "# Political Betting Leaning Score"
      ]
    },
    {
      "cell_type": "code",
      "execution_count": null,
      "metadata": {
        "id": "8Dg9mxSS89uP"
      },
      "outputs": [],
      "source": [
        "# Extract all users who participated in the \"presidential-election-winner-2024\" event\n",
        "users_in_event = []\n",
        "for user, details in politics_users_profile.items():\n",
        "    for activity in details[\"activities\"]:\n",
        "        #if activity.get(\"eventSlug\") == \"presidential-election-winner-2024\":\n",
        "        if activity.get(\"eventSlug\") == \"presidential-election-popular-vote-winner-2024\":\n",
        "            users_in_event.append((user, activity))\n",
        "\n",
        "# Use a regular expression to extract the candidate name from the \"title\" field\n",
        "candidate_pattern = re.compile(r\"Will (.*) win the popular vote in the 2024 Presidential Election\\?\")\n",
        "\n",
        "# Find all unique candidates\n",
        "candidates = set()\n",
        "for user, activity in users_in_event:\n",
        "    title = activity[\"title\"]\n",
        "    match = candidate_pattern.match(title)\n",
        "    if match:\n",
        "        candidate = match.group(1)\n",
        "        candidates.add(candidate)"
      ]
    },
    {
      "cell_type": "code",
      "execution_count": 4,
      "metadata": {
        "id": "fhijBoMPMKT_"
      },
      "outputs": [],
      "source": [
        "democratic_candidates = [\n",
        "    \"Joe Biden\",\n",
        "    \"Kamala Harris\",\n",
        "    \"Bernie Sanders\",\n",
        "    \"Elizabeth Warren\",\n",
        "    \"AOC\",  #Alexandria Ocasio-Cortez\n",
        "    \"Gavin Newsom\",\n",
        "    \"Hillary Clinton\",\n",
        "    \"Michelle Obama\",\n",
        "    'any other Democrat Politician',\n",
        "    \"any other Democratic Politician\"\n",
        "]\n",
        "\n",
        "republican_candidates = [\n",
        "    \"Donald Trump\",\n",
        "    \"Ron DeSantis\",\n",
        "    \"Nikki Haley\",\n",
        "    \"Chris Christie\",\n",
        "    \"Vivek Ramaswamy\",\n",
        "    \"Kanye West\",\n",
        "    \"any other Republican Politician\"\n",
        "]\n",
        "\n",
        "\n",
        "def get_candidate_party(title):\n",
        "    for candidate in democratic_candidates:\n",
        "        if candidate in title:\n",
        "            return 1\n",
        "    for candidate in republican_candidates:\n",
        "        if candidate in title:\n",
        "            return -1\n",
        "    return 0\n",
        "\n",
        "def calculate_political_leaning_score(user_transactions, market, alpha=0.5, theta=0.005, half_life=14):\n",
        "    democratic_weight = 0\n",
        "    republican_weight = 0\n",
        "    total_amount = 0\n",
        "    trade_count = 0\n",
        "    has_election_transaction = False\n",
        "\n",
        "    market_start_time = datetime.strptime('2024-01-04T22:58:15.194', '%Y-%m-%dT%H:%M:%S.%f')\n",
        "    market_end_time = datetime.strptime('2024-11-05T00:00:00.000', '%Y-%m-%dT%H:%M:%S.%f')\n",
        "    market_mid_time = market_start_time + (market_end_time - market_start_time) / 2\n",
        "\n",
        "    for transaction in user_transactions:\n",
        "        if transaction['eventSlug'] == market:\n",
        "            has_election_transaction = True\n",
        "            trade_count += 1\n",
        "            transaction_time = datetime.fromtimestamp(transaction['timestamp'])\n",
        "            price = transaction['price']\n",
        "            amount = transaction['usdcSize']\n",
        "            candidate_party = get_candidate_party(transaction['title'])\n",
        "\n",
        "            if abs(price - 0.5) <= 0.5 - theta:\n",
        "                price_weight = abs(price - 0.5) / 0.5  # 0.5 might be just guess\n",
        "                time_decay = np.exp(-np.log(2) / half_life * (market_end_time - transaction_time).days)\n",
        "                amount_weight = np.log(1 + amount) if transaction['side'] == 'BUY' else -np.log(1 + amount)\n",
        "                party_weight = candidate_party * (1 if transaction['outcomeIndex'] == 0 else -1)\n",
        "\n",
        "\n",
        "                weight = price_weight * time_decay * amount_weight * party_weight\n",
        "\n",
        "                if candidate_party > 0:\n",
        "                    democratic_weight += weight\n",
        "                elif candidate_party < 0:\n",
        "                    republican_weight += weight\n",
        "\n",
        "                total_amount += abs(weight)\n",
        "\n",
        "    frequency_weight = np.log(1 + trade_count)\n",
        "\n",
        "    if total_amount > 0:\n",
        "        political_leaning_score = frequency_weight * (democratic_weight - republican_weight) / total_amount\n",
        "    else:\n",
        "        political_leaning_score = -99\n",
        "\n",
        "    return political_leaning_score\n",
        "\n",
        "market = 'presidential-election-winner-2024'\n",
        "\n",
        "for user, details in politics_users_profile.items():\n",
        "      political_leaning_score = calculate_political_leaning_score(details[\"activities\"], market)\n",
        "      details[\"political_leaning_score\"] = political_leaning_score"
      ]
    },
    {
      "cell_type": "code",
      "execution_count": 5,
      "metadata": {
        "colab": {
          "base_uri": "https://localhost:8080/",
          "height": 499
        },
        "id": "ELZM8WzImUvs",
        "outputId": "9e1f738b-fcfc-4812-eca9-0e6c6778d579"
      },
      "outputs": [
        {
          "data": {
            "image/png": "[encoded data removed]",
            "text/plain": [
              "<Figure size 625x540 with 1 Axes>"
            ]
          },
          "metadata": {},
          "output_type": "display_data"
        }
      ],
      "source": [
        "from matplotlib.colors import LinearSegmentedColormap\n",
        "\n",
        "valid_scores = [details[\"political_leaning_score\"] for user, details in politics_users_profile.items() if details[\"political_leaning_score\"] != -99]\n",
        "\n",
        "counts, bin_edges = np.histogram(valid_scores, bins=20, density=False)\n",
        "bin_centers = 0.5 * (bin_edges[:-1] + bin_edges[1:])\n",
        "\n",
        "# statistics\n",
        "weighted_mean = np.average(bin_centers, weights=counts)\n",
        "\n",
        "mean_diff_sq = (bin_centers - weighted_mean) ** 2\n",
        "weighted_var = np.average(mean_diff_sq, weights=counts)\n",
        "weighted_std = np.sqrt(weighted_var)\n",
        "\n",
        "cmap = plt.get_cmap('coolwarm')\n",
        "norm = plt.Normalize(min(valid_scores), max(valid_scores))\n",
        "colors = cmap(1.0 - norm(bin_centers))\n",
        "\n",
        "plt.figure(figsize=(6.25, 5.4))\n",
        "for (color, count, bin_center) in zip(colors, counts, bin_centers):\n",
        "    plt.bar(bin_center, count, width=np.diff(bin_edges)[0], color=color)\n",
        "\n",
        "text_offset = 0.02\n",
        "plt.axvline(weighted_mean, color='k', linestyle='dashed', linewidth=1)\n",
        "plt.text(weighted_mean + text_offset, plt.ylim()[1] * 0.5, f'Mean: {weighted_mean:.2f}', rotation=90)\n",
        "\n",
        "plt.axvline(weighted_mean + weighted_std, color='k', linestyle='dashed', linewidth=1)\n",
        "plt.text(weighted_mean + weighted_std + text_offset, plt.ylim()[1] * 0.5, f'+1 SD: {(weighted_mean + weighted_std):.2f}', rotation=90)\n",
        "\n",
        "plt.axvline(weighted_mean - weighted_std, color='k', linestyle='dashed', linewidth=1)\n",
        "plt.text(weighted_mean - weighted_std + text_offset, plt.ylim()[1] * 0.5, f'-1 SD: {(weighted_mean - weighted_std):.2f}', rotation=90)\n",
        "\n",
        "plt.xlim(min(bin_centers) - (max(bin_centers) - min(bin_centers)) * 0.08,\n",
        "         max(bin_centers) + (max(bin_centers) - min(bin_centers)) * 0.08)\n",
        "\n",
        "plt.xlabel('Political Leaning Score')\n",
        "plt.ylabel('Frequency')\n",
        "\n",
        "\n",
        "legend_elements = [Patch(facecolor=cmap(1.0), label='More Republican'),\n",
        "                   Patch(facecolor=cmap(0.5), label='Neutral'),\n",
        "                   Patch(facecolor=cmap(0.0), label='More Democratic')]\n",
        "plt.legend(handles=legend_elements)\n",
        "plt.savefig('./figure/PLS_distribution_800.pdf', format='pdf', bbox_inches='tight')\n",
        "plt.show()"
      ]
    },
    {
      "cell_type": "code",
      "execution_count": null,
      "metadata": {
        "id": "3jzDViZPDi6f"
      },
      "outputs": [],
      "source": [
        "with open('./data/temp/politics_users_profile_api2++.json', 'w', encoding='utf-8') as file: \n",
        "    json.dump(politics_users_profile, file, ensure_ascii=False, indent=2)"
      ]
    },
    {
      "cell_type": "markdown",
      "metadata": {
        "id": "6sRB4DlKCZHK"
      },
      "source": [
        "## Internal Validation - popular vote"
      ]
    },
    {
      "cell_type": "code",
      "execution_count": 40,
      "metadata": {
        "id": "e56RT7TPGsdL"
      },
      "outputs": [],
      "source": [
        "import pandas as pd\n",
        "from scipy.stats import pearsonr, spearmanr, f_oneway, ks_2samp\n",
        "import numpy as np\n",
        "import matplotlib.pyplot as plt\n",
        "from matplotlib.patches import Patch\n",
        "import json\n",
        "from scipy.stats import t\n",
        "from scipy.stats import norm"
      ]
    },
    {
      "cell_type": "code",
      "execution_count": null,
      "metadata": {
        "id": "IBd4UTD0qIzV"
      },
      "outputs": [],
      "source": [
        "with open('./data/temp/politics_users_profile_api2++.json', 'r', encoding='utf-8') as file:\n",
        "    politics_users_profile = json.load(file)\n",
        "\n",
        "market = 'presidential-election-popular-vote-winner-2024'\n",
        "\n",
        "for user, details in politics_users_profile.items():\n",
        "      political_leaning_score = calculate_political_leaning_score(details[\"activities\"], market) # calculate PBLS on the popular vote market\n",
        "      details[\"political_leaning_score_val\"] = political_leaning_score\n",
        "\n",
        "with open('./data/temp/politics_users_profile_api2++popular.json', 'w', encoding='utf-8') as file: \n",
        "    json.dump(politics_users_profile, file, ensure_ascii=False, indent=2)"
      ]
    },
    {
      "cell_type": "code",
      "execution_count": null,
      "metadata": {
        "colab": {
          "base_uri": "https://localhost:8080/"
        },
        "id": "2U-tsGtkttVf",
        "outputId": "d6530f31-8f1f-4d59-e0f3-3cd5ee0158a3"
      },
      "outputs": [
        {
          "name": "stdout",
          "output_type": "stream",
          "text": [
            "Number of PLS (in election market): 823\n",
            "Number of PLS2 (in popular vote market): 142\n",
            "Number of in both markets: 106\n",
            "PLS mean: 0.48043067184016397, PLS2 mean: 0.2525345324104643\n",
            "PLS std: 1.205136044978032, PLS2 std: 1.3504249869032396\n",
            "Kolmogorov-Smirnov test p-value: 0.059927621073042794\n",
            "PLS-PLS2 Pearson correlation: 0.626948521764074, p-value: 6.49301241547721e-13\n",
            "PLS-PLS2 Spearman correlation: 0.5340011145936772, p-value: 3.750173406699545e-09\n"
          ]
        }
      ],
      "source": [
        "def compare_pls_scores(politics_users_profile):\n",
        "    pls_scores = []\n",
        "    pls2_scores = []\n",
        "    user_in_both_markets = 0\n",
        "    user_only_in_election_market = 0\n",
        "    user_only_in_popular_vote_market = 0\n",
        "\n",
        "    for user, details in politics_users_profile.items():\n",
        "        if details['political_leaning_score'] != -99:\n",
        "            pls_scores.append(details['political_leaning_score'])\n",
        "            if details['political_leaning_score_val'] != -99:\n",
        "                user_in_both_markets += 1\n",
        "            else:\n",
        "                user_only_in_election_market += 1\n",
        "        if details['political_leaning_score_val'] != -99:\n",
        "            pls2_scores.append(details['political_leaning_score_val'])\n",
        "            if details['political_leaning_score'] == -99:\n",
        "                user_only_in_popular_vote_market += 1\n",
        "\n",
        "    print(f\"Number of PLS (in election market): {len(pls_scores)}\")\n",
        "    print(f\"Number of PLS2 (in popular vote market): {len(pls2_scores)}\")\n",
        "    print(f\"Number of in both markets: {user_in_both_markets}\")\n",
        "\n",
        "    print(f\"PLS mean: {np.mean(pls_scores)}, PLS2 mean: {np.mean(pls2_scores)}\")\n",
        "    print(f\"PLS std: {np.std(pls_scores)}, PLS2 std: {np.std(pls2_scores)}\")\n",
        "    print(f\"Kolmogorov-Smirnov test p-value: {ks_2samp(pls_scores, pls2_scores).pvalue}\")\n",
        "\n",
        "    user_scores = pd.DataFrame({'User': [user for user, details in politics_users_profile.items() if details['political_leaning_score'] != -99 and details['political_leaning_score_val'] != -99],\n",
        "                                'PLS': [details['political_leaning_score'] for user, details in politics_users_profile.items() if details['political_leaning_score'] != -99 and details['political_leaning_score_val'] != -99],\n",
        "                                'PLS2': [details['political_leaning_score_val'] for user, details in politics_users_profile.items() if details['political_leaning_score'] != -99 and details['political_leaning_score_val'] != -99]})\n",
        "\n",
        "    user_scores.to_csv('user_scores.csv', index=False)\n",
        "\n",
        "    pearson_corr, pearson_p = pearsonr(user_scores['PLS'], user_scores['PLS2'])\n",
        "    spearman_corr, spearman_p = spearmanr(user_scores['PLS'], user_scores['PLS2'])\n",
        "\n",
        "    print(f\"PLS-PLS2 Pearson correlation: {pearson_corr}, p-value: {pearson_p}\")\n",
        "    print(f\"PLS-PLS2 Spearman correlation: {spearman_corr}, p-value: {spearman_p}\")\n",
        "\n",
        "compare_pls_scores(politics_users_profile)"
      ]
    },
    {
      "cell_type": "markdown",
      "metadata": {
        "id": "StVFAhYIWxEw"
      },
      "source": [
        "## External validation - polls"
      ]
    },
    {
      "cell_type": "code",
      "execution_count": 47,
      "metadata": {
        "id": "IQ40e_F6Wzhw"
      },
      "outputs": [],
      "source": [
        "poll_df = pd.read_excel('./data/president_polls.xlsx') # download from ABC News\n",
        "\n",
        "poll_agg = poll_df.pivot_table(index='poll_id', columns='party', values='pct', aggfunc='mean')\n",
        "poll_agg['dem_rep_ratio'] = poll_agg['DEM'] / poll_agg['REP']\n",
        "\n",
        "poll_sizes = poll_df.groupby('poll_id')['sample_size'].first()\n",
        "poll_agg['sample_size'] = poll_sizes\n",
        "poll_agg = poll_agg.reset_index()\n",
        "\n",
        "#poll_agg drop nan\n",
        "poll_agg = poll_agg.dropna()\n",
        "\n",
        "pls_scores = []\n",
        "for user, details in politics_users_profile.items():\n",
        "    if details['political_leaning_score'] != -99:\n",
        "        pls_scores.append(details['political_leaning_score'])\n",
        "\n",
        "dem_count = 0\n",
        "rep_count = 0\n",
        "mean = 0.48\n",
        "sd = 1.22\n",
        "\n",
        "for score in pls_scores:\n",
        "    if score > mean + sd:\n",
        "        dem_count += 1\n",
        "    elif score < mean - sd:\n",
        "        rep_count += 1\n",
        "\n",
        "pbls_ratio = dem_count / rep_count"
      ]
    },
    {
      "cell_type": "code",
      "execution_count": 48,
      "metadata": {
        "colab": {
          "base_uri": "https://localhost:8080/"
        },
        "id": "ad2bwYlrpPoV",
        "outputId": "46a7126a-c225-4ad3-ce78-9f45c691b144"
      },
      "outputs": [
        {
          "name": "stdout",
          "output_type": "stream",
          "text": [
            "Weighted Mean of Dem/Rep ratio in polls: 1.216\n",
            "Dem/Rep ratio according to PBLS: 0.760\n",
            "95% CI: [0.703, 1.729]\n",
            "PBLS ratio falls within the 95% CI of poll ratios.\n"
          ]
        }
      ],
      "source": [
        "n_bootstraps = 1000\n",
        "bootstrap_ratios = []\n",
        "\n",
        "for _ in range(n_bootstraps):\n",
        "    sample_ids = np.random.choice(poll_agg['poll_id'], size=len(poll_agg), replace=True, p=poll_agg['sample_size'] / poll_agg['sample_size'].sum())\n",
        "    sample_df = poll_agg[poll_agg['poll_id'].isin(sample_ids)]\n",
        "    sample_ratio = np.average(sample_df['dem_rep_ratio'], weights=sample_df['sample_size'])\n",
        "    bootstrap_ratios.append(sample_ratio)\n",
        "\n",
        "bootstrap_ratios = np.array(bootstrap_ratios)\n",
        "ratio_mean = np.mean(bootstrap_ratios)\n",
        "ratio_std = np.std(bootstrap_ratios)\n",
        "\n",
        "ci_lower = ratio_mean + norm.ppf(0.025) * ratio_std\n",
        "ci_upper = ratio_mean + norm.ppf(0.975) * ratio_std\n",
        "\n",
        "print(f\"Weighted Mean of Dem/Rep ratio in polls: {ratio_mean:.3f}\")\n",
        "print(f\"Dem/Rep ratio according to PBLS: {pbls_ratio:.3f}\")\n",
        "print(f\"95% CI: [{ci_lower:.3f}, {ci_upper:.3f}]\")\n",
        "\n",
        "if ci_lower <= pbls_ratio <= ci_upper:\n",
        "    print(\"PBLS ratio falls within the 95% CI of poll ratios.\")\n",
        "else:\n",
        "    print(\"PBLS ratio falls outside the 95% CI of poll ratios.\")"
      ]
    },
    {
      "cell_type": "markdown",
      "metadata": {
        "id": "BX-rup3cfTzX"
      },
      "source": [
        "# Feature Engineering and Correlation Analysis"
      ]
    },
    {
      "cell_type": "code",
      "execution_count": null,
      "metadata": {
        "id": "ZH1xAFEw-0xD"
      },
      "outputs": [],
      "source": [
        "import pandas as pd\n",
        "from collections import defaultdict\n",
        "import json\n",
        "from scipy import stats\n",
        "from datetime import datetime\n",
        "import numpy as np"
      ]
    },
    {
      "cell_type": "code",
      "execution_count": null,
      "metadata": {
        "id": "KZbQDjYw-6rJ"
      },
      "outputs": [],
      "source": [
        "with open('./data/temp/politics_users_profile_api2++popular.json', 'r', encoding='utf-8') as file:\n",
        "    politics_users_profile = json.load(file)\n",
        "with open('./data/events_details_clip.json', 'r', encoding='utf-8') as file:\n",
        "    data = json.load(file)"
      ]
    },
    {
      "cell_type": "code",
      "execution_count": null,
      "metadata": {
        "id": "_56y-yOF_VSX"
      },
      "outputs": [],
      "source": [
        "market_outcomes = {}\n",
        "for slug, market_data in data.items():\n",
        "    resolution_price = market_data.get('resolutionPrice')\n",
        "    if resolution_price == '1000000000000000000':\n",
        "        market_outcomes[slug] = 'Yes'\n",
        "    elif resolution_price == '0':\n",
        "        market_outcomes[slug] = 'No'\n",
        "\n",
        "def extract_features(user_data):\n",
        "    features = {}\n",
        "\n",
        "    # 1 Basic features\n",
        "    data_collection_date = datetime(2024, 2, 28)\n",
        "    created_at = datetime.fromtimestamp(int(user_data['profile']['createdAt']))\n",
        "    features['days_since_created'] = (data_collection_date - created_at).days\n",
        "    total_profit = 0\n",
        "    total_realized_profit = 0\n",
        "    events_traded = set()\n",
        "    markets_traded = set()\n",
        "    total_volume = 0\n",
        "\n",
        "    for activity in user_data['activities']:\n",
        "        if activity['categoryID'] != 0:\n",
        "            total_profit += activity['usdcSize'] * (1 if activity['side'] == 'SELL' else -1)\n",
        "            if activity['side'] == 'SELL':\n",
        "                total_realized_profit += activity['usdcSize']\n",
        "            events_traded.add(activity['eventSlug'])\n",
        "            markets_traded.add(activity['slug'])\n",
        "            total_volume += activity['usdcSize']\n",
        "\n",
        "    features['totalProfit'] = total_profit\n",
        "    features['realized'] = total_realized_profit\n",
        "    features['eventsTraded'] = len(events_traded)\n",
        "    features['marketsTraded'] = len(markets_traded)\n",
        "    features['volumeTraded'] = total_volume\n",
        "    features['activityNum'] = len(user_data['activities'])\n",
        "\n",
        "    # 2 The counts and proportion\n",
        "    market_types = defaultdict(int)\n",
        "    parent_market_types = defaultdict(int)\n",
        "    for activity in user_data['activities']:\n",
        "        if activity['categoryID'] != 0:\n",
        "            market_types[activity['categoryID']] += 1\n",
        "            parent_market_types[activity['parentCategoryID']] += 1\n",
        "    total_activities = len(user_data['activities'])\n",
        "\n",
        "    for market_type, count in market_types.items():\n",
        "        features[f'market_type_{market_type}_count'] = count\n",
        "        features[f'market_type_{market_type}_ratio'] = count / total_activities\n",
        "    for parent_type, count in parent_market_types.items():\n",
        "        features[f'parent_market_type_{parent_type}_count'] = count\n",
        "        features[f'parent_market_type_{parent_type}_ratio'] = count / total_activities\n",
        "\n",
        "    # 3 Trading frequency and amount\n",
        "    market_type_buy_amounts = defaultdict(float)\n",
        "    market_type_sell_amounts = defaultdict(float)\n",
        "    market_type_buy_counts = defaultdict(int)\n",
        "    market_type_sell_counts = defaultdict(int)\n",
        "\n",
        "    parent_market_buy_amounts = defaultdict(float)\n",
        "    parent_market_sell_amounts = defaultdict(float)\n",
        "    parent_market_buy_counts = defaultdict(int)\n",
        "    parent_market_sell_counts = defaultdict(int)\n",
        "\n",
        "    for activity in user_data['activities']:\n",
        "        if activity['categoryID'] != 0:\n",
        "            if activity['side'] == 'BUY':\n",
        "                market_type_buy_amounts[activity['categoryID']] += activity['usdcSize']\n",
        "                market_type_buy_counts[activity['categoryID']] += 1\n",
        "\n",
        "                parent_market_buy_amounts[activity['parentCategoryID']] += activity['usdcSize']\n",
        "                parent_market_buy_counts[activity['parentCategoryID']] += 1\n",
        "            else:\n",
        "                market_type_sell_amounts[activity['categoryID']] += activity['usdcSize']\n",
        "                market_type_sell_counts[activity['categoryID']] += 1\n",
        "\n",
        "                parent_market_sell_amounts[activity['parentCategoryID']] += activity['usdcSize']\n",
        "                parent_market_sell_counts[activity['parentCategoryID']] += 1\n",
        "\n",
        "    for market_type in market_types:\n",
        "        features[f'market_type_{market_type}_buy_amount'] = market_type_buy_amounts[market_type]\n",
        "        features[f'market_type_{market_type}_sell_amount'] = market_type_sell_amounts[market_type]\n",
        "        features[f'market_type_{market_type}_amount'] = market_type_buy_amounts[market_type] + market_type_sell_amounts[market_type]\n",
        "        features[f'market_type_{market_type}_buy_frequency'] = market_type_buy_counts[market_type] / market_types[market_type]\n",
        "        features[f'market_type_{market_type}_sell_frequency'] = market_type_sell_counts[market_type] / market_types[market_type]\n",
        "\n",
        "    for parent_type in parent_market_types:\n",
        "        features[f'parent_market_type_{parent_type}_buy_amount'] = parent_market_buy_amounts[parent_type]\n",
        "        features[f'parent_market_type_{parent_type}_sell_amount'] = parent_market_sell_amounts[parent_type]\n",
        "        features[f'parent_market_type_{parent_type}_amount'] = parent_market_buy_amounts[parent_type] + parent_market_sell_amounts[parent_type]\n",
        "        features[f'parent_market_type_{parent_type}_buy_frequency'] = parent_market_buy_counts[parent_type] / parent_market_types[parent_type] if parent_market_types[parent_type] > 0 else None\n",
        "        features[f'parent_market_type_{parent_type}_sell_frequency'] = parent_market_sell_counts[parent_type] / parent_market_types[parent_type] if parent_market_types[parent_type] > 0 else None\n",
        "\n",
        "    # 4 success rate and P/L\n",
        "    market_type_success_counts = defaultdict(int)\n",
        "    market_type_profit_loss = defaultdict(float)\n",
        "\n",
        "    parent_market_success_counts = defaultdict(int)\n",
        "    parent_market_profit_loss = defaultdict(float)\n",
        "\n",
        "    market_positions = defaultdict(lambda: {'Yes': 0, 'No': 0})\n",
        "\n",
        "    for activity in sorted(user_data['activities'], key=lambda x: x['timestamp']):\n",
        "        if activity['categoryID'] != 0:\n",
        "            market_slug = activity['slug']\n",
        "            market_type = activity['categoryID']\n",
        "            parent_type = activity['parentCategoryID']\n",
        "\n",
        "            outcome = 'Yes' if activity['outcomeIndex'] == 0 else 'No'\n",
        "\n",
        "            if activity['side'] == 'BUY':\n",
        "                market_positions[market_slug][outcome] += activity['size']\n",
        "                market_type_profit_loss[market_type] -= activity['usdcSize']\n",
        "            else:  # SELL\n",
        "                market_positions[market_slug][outcome] -= activity['size']\n",
        "                market_type_profit_loss[market_type] += activity['usdcSize']\n",
        "\n",
        "    for market_slug, position in market_positions.items():\n",
        "        if market_slug in market_outcomes: #market clip data\n",
        "            final_outcome = market_outcomes[market_slug]\n",
        "            market_type = next(activity['categoryID'] for activity in user_data['activities'] if activity['slug'] == market_slug)\n",
        "            parent_type = next(activity['parentCategoryID'] for activity in user_data['activities'] if activity['slug'] == market_slug)\n",
        "\n",
        "            if position[final_outcome] > 0:\n",
        "                market_type_success_counts[market_type] += 1\n",
        "                parent_market_success_counts[parent_type] += 1\n",
        "\n",
        "            market_type_profit_loss[market_type] += position[final_outcome]\n",
        "            parent_market_profit_loss[parent_type] += position[final_outcome]\n",
        "\n",
        "    for market_type in market_type_success_counts:\n",
        "        total_markets = sum(1 for activity in user_data['activities'] if activity['categoryID'] == market_type and activity['slug'] in market_outcomes)\n",
        "        if total_markets > 0:\n",
        "            features[f'market_type_{market_type}_success_rate'] = market_type_success_counts[market_type] / total_markets\n",
        "            features[f'market_type_{market_type}_profit_loss'] = market_type_profit_loss[market_type]\n",
        "\n",
        "    for parent_type in parent_market_success_counts:\n",
        "        total_markets = sum(1 for activity in user_data['activities'] if activity['parentCategoryID'] == parent_type and activity['slug'] in market_outcomes)\n",
        "        if total_markets > 0:\n",
        "            features[f'parent_market_type_{parent_type}_success_rate'] = parent_market_success_counts[parent_type] / total_markets\n",
        "            features[f'parent_market_type_{parent_type}_profit_loss'] = parent_market_profit_loss[parent_type]\n",
        "        else:\n",
        "            features[f'parent_market_type_{parent_type}_success_rate'] = None\n",
        "            features[f'parent_market_type_{parent_type}_profit_loss'] = None\n",
        "\n",
        "    # 5 holding_times and intervals\n",
        "    holding_times = []\n",
        "    parent_market_trade_intervals = defaultdict(list)\n",
        "    prev_timestamp = defaultdict(int)\n",
        "    positions = defaultdict(lambda: defaultdict(list))\n",
        "\n",
        "    for activity in sorted(user_data['activities'], key=lambda x: x['timestamp']):\n",
        "        if activity['categoryID'] != 0:\n",
        "            timestamp = activity['timestamp']\n",
        "            market_id = activity['eventSlug']\n",
        "            parent_type = activity['parentCategoryID']\n",
        "            outcome = 'Yes' if activity['outcomeIndex'] == 0 else 'No'\n",
        "\n",
        "            if activity['side'] == 'BUY':\n",
        "                positions[market_id][outcome].append((timestamp, activity['size']))\n",
        "            else:  # SELL\n",
        "                if positions[market_id][outcome]:\n",
        "                    buy_time, buy_size = positions[market_id][outcome].pop(0)\n",
        "                    holding_times.append((timestamp - buy_time) / 86400)  # Convert to days\n",
        "\n",
        "            if prev_timestamp[parent_type] != 0:\n",
        "                parent_market_trade_intervals[parent_type].append((timestamp - prev_timestamp[parent_type]) / 86400)  # Convert to days\n",
        "            prev_timestamp[parent_type] = timestamp\n",
        "\n",
        "    for market_id in positions:\n",
        "        for outcome in positions[market_id]:\n",
        "            for buy_time, buy_size in positions[market_id][outcome]:\n",
        "                holding_times.append((data_collection_date.timestamp() - buy_time) / 86400)  # Convert to days\n",
        "\n",
        "    if holding_times:\n",
        "        features['median_holding_time'] = np.median(holding_times)\n",
        "    else:\n",
        "        features['median_holding_time'] = None\n",
        "\n",
        "    for parent_type in parent_market_types:\n",
        "        if parent_market_trade_intervals[parent_type]:\n",
        "            features[f'median_trade_interval_parent_{parent_type}'] = np.median(parent_market_trade_intervals[parent_type])\n",
        "        else:\n",
        "            features[f'median_trade_interval_parent_{parent_type}'] = None\n",
        "\n",
        "    # 6 Before/ after specific events\n",
        "    midterm_election_date = datetime(2022, 11, 8).timestamp()\n",
        "    presidential_election_market_open_date = datetime(2024, 1, 4).timestamp()\n",
        "\n",
        "    pre_midterm_activities = [activity for activity in user_data['activities'] if activity['timestamp'] < midterm_election_date]\n",
        "    post_midterm_activities = [activity for activity in user_data['activities'] if activity['timestamp'] >= midterm_election_date]\n",
        "\n",
        "    pre_market_open_activities = [activity for activity in user_data['activities'] if activity['timestamp'] < presidential_election_market_open_date]\n",
        "    post_market_open_activities = [activity for activity in user_data['activities'] if activity['timestamp'] >= presidential_election_market_open_date]\n",
        "\n",
        "    features['pre_midterm_activity_count'] = len(pre_midterm_activities)\n",
        "    features['post_midterm_activity_count'] = len(post_midterm_activities)\n",
        "    features['pre_midterm_avg_amount'] = sum(activity['usdcSize'] for activity in pre_midterm_activities) / len(pre_midterm_activities) if pre_midterm_activities else None\n",
        "    features['post_midterm_avg_amount'] = sum(activity['usdcSize'] for activity in post_midterm_activities) / len(post_midterm_activities) if post_midterm_activities else None\n",
        "\n",
        "    features['pre_market_open_activity_count'] = len(pre_market_open_activities)\n",
        "    features['post_market_open_activity_count'] = len(post_market_open_activities)\n",
        "    features['pre_market_open_avg_amount'] = sum(activity['usdcSize'] for activity in pre_market_open_activities) / len(pre_market_open_activities) if pre_market_open_activities else None\n",
        "    features['post_market_open_avg_amount'] = sum(activity['usdcSize'] for activity in post_market_open_activities) / len(post_market_open_activities) if post_market_open_activities else None\n",
        "\n",
        "    # 7 Side preference\n",
        "    for market_type in market_types:\n",
        "        market_type_yes_amount = sum(activity['usdcSize'] for activity in user_data['activities'] if activity['categoryID'] == market_type and activity['outcomeIndex'] == 0)\n",
        "        market_type_no_amount = sum(activity['usdcSize'] for activity in user_data['activities'] if activity['categoryID'] == market_type and activity['outcomeIndex'] == 1)\n",
        "        features[f'market_type_{market_type}_yes_ratio'] = market_type_yes_amount / (market_type_yes_amount + market_type_no_amount) if (market_type_yes_amount + market_type_no_amount) > 0 else None\n",
        "        features[f'market_type_{market_type}_no_ratio'] = market_type_no_amount / (market_type_yes_amount + market_type_no_amount) if (market_type_yes_amount + market_type_no_amount) > 0 else None\n",
        "\n",
        "    for parent_type in parent_market_types:\n",
        "        parent_type_yes_amount = sum(activity['usdcSize'] for activity in user_data['activities'] if activity['parentCategoryID'] == parent_type and activity['outcomeIndex'] == 0)\n",
        "        parent_type_no_amount = sum(activity['usdcSize'] for activity in user_data['activities'] if activity['parentCategoryID'] == parent_type and activity['outcomeIndex'] == 1)\n",
        "        total_amount = parent_type_yes_amount + parent_type_no_amount\n",
        "        features[f'parent_market_type_{parent_type}_yes_ratio'] = parent_type_yes_amount / total_amount if total_amount > 0 else None\n",
        "        features[f'parent_market_type_{parent_type}_no_ratio'] = parent_type_no_amount / total_amount if total_amount > 0 else None\n",
        "\n",
        "    # 8 Risk preference\n",
        "    total_trades = len(user_data['activities']) #user_data['activityNum']\n",
        "    total_volume = total_volume #user_data['volumeTraded']\n",
        "\n",
        "    avg_price_diff = []\n",
        "    volume_ratio = []\n",
        "\n",
        "    for activity in user_data['activities']:\n",
        "        if activity['categoryID'] != 0 and total_volume >0 and 0 <= activity['price'] <= 1:\n",
        "            avg_price_diff.append(abs(activity['price'] - 0.5))  #comparing with 0.5\n",
        "            volume_ratio.append(activity['usdcSize'] / total_volume)\n",
        "\n",
        "    if avg_price_diff:\n",
        "        features['avg_price_diff'] = np.mean(avg_price_diff)\n",
        "        features['vol_weighted_avg_price_diff'] = np.average(avg_price_diff, weights=volume_ratio)\n",
        "    else:\n",
        "        features['avg_price_diff'] = None\n",
        "        features['vol_weighted_avg_price_diff'] = None\n",
        "\n",
        "    market_type_count = len({activity['categoryID'] for activity in user_data['activities'] if activity['categoryID'] != 0})\n",
        "    features['market_type_concentration'] = market_type_count / total_trades if total_trades > 0 else None\n",
        "\n",
        "    parent_market_type_count = len(parent_market_types)\n",
        "    features['parent_market_type_concentration'] = parent_market_type_count / total_trades if total_trades > 0 else None\n",
        "\n",
        "\n",
        "    return features\n",
        "\n",
        "user_features = {}\n",
        "for user, user_data in politics_users_profile.items():\n",
        "    user_features[user] = extract_features(user_data)"
      ]
    },
    {
      "cell_type": "code",
      "execution_count": null,
      "metadata": {
        "id": "svsxHOIXe4rZ"
      },
      "outputs": [],
      "source": [
        "def create_combination_features(df):\n",
        "    df['avg_trade_amount'] = df['volumeTraded'] / df['activityNum']\n",
        "    df['avg_amount_per_market'] = df['volumeTraded'] / df['marketsTraded']\n",
        "    df['avg_amount_per_event'] = df['volumeTraded'] / df['eventsTraded']\n",
        "\n",
        "\n",
        "    df['accuracy_frequency_product'] = (df['parent_market_type_5481_success_rate'] * (df['parent_market_type_5481_buy_frequency'] + df['parent_market_type_5481_sell_frequency']))\n",
        "\n",
        "    return df\n",
        "\n",
        "features_df = pd.DataFrame.from_dict(user_features, orient='index')\n",
        "features_df['political_leaning_score'] = pd.Series({user: details['political_leaning_score'] for user, details in politics_users_profile.items()})\n",
        "\n",
        "features_df = create_combination_features(features_df)\n",
        "\n",
        "\n",
        "features_df.to_csv('./data/temp/features_df.csv')\n",
        "\n",
        "valid_users = features_df['political_leaning_score'] != -99\n",
        "features_df = features_df[valid_users]\n",
        "\n",
        "correlation_matrix = features_df.corr(method='spearman', min_periods=1) #pairwise deletion\n",
        "pls_correlations = correlation_matrix['political_leaning_score'].sort_values(ascending=False)\n",
        "\n",
        "# t and p\n",
        "n = len(features_df)\n",
        "eps = 1e-15\n",
        "t_values = pls_correlations * np.sqrt(n - 2) / np.sqrt(1 - pls_correlations**2 + eps)\n",
        "p_values = 2 * (1 - stats.t.cdf(np.abs(t_values), n - 2))\n",
        "\n",
        "results_df = pd.DataFrame({'Correlation': pls_correlations, 't-value': t_values, 'p-value': p_values})\n",
        "alpha = 0.05\n",
        "results_df['Significant'] = results_df['p-value'] < alpha\n",
        "\n",
        "results_df.to_csv('./data/correlation_results.csv')"
      ]
    },
    {
      "cell_type": "markdown",
      "metadata": {
        "id": "26F_Y5A9cMWd"
      },
      "source": [
        "# Predicting PBLS for All User Addresses"
      ]
    },
    {
      "cell_type": "code",
      "execution_count": null,
      "metadata": {
        "id": "dni_2PcKcRRO"
      },
      "outputs": [],
      "source": [
        "import pandas as pd\n",
        "import numpy as np\n",
        "from sklearn.model_selection import train_test_split\n",
        "from sklearn.preprocessing import StandardScaler\n",
        "from sklearn.preprocessing import MinMaxScaler\n",
        "from sklearn.preprocessing import RobustScaler\n",
        "from sklearn.metrics import mean_squared_error, r2_score\n",
        "from sklearn.experimental import enable_iterative_imputer\n",
        "from sklearn.impute import IterativeImputer\n",
        "from sklearn.neighbors import KNeighborsRegressor\n",
        "from sklearn.linear_model import BayesianRidge\n",
        "from keras.models import Sequential\n",
        "from keras.layers import Dense\n",
        "from keras.optimizers import Adam\n",
        "from keras.layers import Dropout\n",
        "from keras.callbacks import EarlyStopping\n",
        "from sklearn.metrics import mean_absolute_error\n",
        "from sklearn.metrics import explained_variance_score\n",
        "from sklearn.experimental import enable_iterative_imputer\n",
        "from sklearn.model_selection import KFold\n",
        "from scipy import stats\n",
        "import xgboost as xgb\n",
        "from sklearn.feature_selection import RFE\n",
        "from sklearn.linear_model import LinearRegression\n",
        "from sklearn.ensemble import RandomForestRegressor\n",
        "from sklearn.ensemble import HistGradientBoostingRegressor\n",
        "from keras.layers import BatchNormalization\n",
        "from sklearn.decomposition import PCA\n",
        "from sklearn.model_selection import train_test_split, RandomizedSearchCV\n",
        "from matplotlib.colors import LinearSegmentedColormap\n",
        "import matplotlib.pyplot as plt\n",
        "from matplotlib.patches import Patch\n",
        "import seaborn as sns\n",
        "import json\n",
        "import csv"
      ]
    },
    {
      "cell_type": "code",
      "execution_count": null,
      "metadata": {
        "id": "6Jr14CVyd5JH"
      },
      "outputs": [],
      "source": [
        "features_df = pd.read_csv('./data/temp/features_df.csv', index_col=0)\n",
        "results_df = pd.read_csv('./data/correlation_results.csv', index_col=0)"
      ]
    },
    {
      "cell_type": "code",
      "execution_count": null,
      "metadata": {
        "id": "Zu-sbJBeXH7x"
      },
      "outputs": [],
      "source": [
        "# Significant\n",
        "significant_corr_features = results_df[results_df['Significant']].index \n",
        "\n",
        "missing_rates = features_df.isnull().mean()\n",
        "threshold = 1\n",
        "less_missing_th = missing_rates[missing_rates < threshold].index.tolist()\n",
        "less_missing = [feature for feature in significant_corr_features if feature in less_missing_th]\n",
        "\n",
        "less_missing.remove('political_leaning_score')"
      ]
    },
    {
      "cell_type": "code",
      "execution_count": null,
      "metadata": {
        "id": "Q_rSp_HSi2fa"
      },
      "outputs": [],
      "source": [
        "PLS_df = features_df[features_df['political_leaning_score'] != -99]\n",
        "no_PLS_df = features_df[features_df['political_leaning_score'] == -99]\n",
        "\n",
        "# REF\n",
        "X_train, X_test, y_train, y_test = train_test_split(PLS_df[less_missing], PLS_df['political_leaning_score'], test_size=0.2, random_state=0)\n",
        "X_no_PLS = no_PLS_df[less_missing]\n",
        "\n",
        "scaler_x = StandardScaler()\n",
        "X_train_scaled = scaler_x.fit_transform(X_train)\n",
        "X_test_scaled = scaler_x.transform(X_test)\n",
        "\n",
        "X_PLS_scaled = scaler_x.transform(PLS_df[less_missing])\n",
        "X_no_PLS_scaled = scaler_x.transform(X_no_PLS)\n",
        "\n",
        "# Data augment\n",
        "def augment_data(X, scale=0.01):\n",
        "    X_augmented = X.copy()\n",
        "\n",
        "    for i in range(X.shape[0]):\n",
        "        adjustment = np.random.uniform(1-scale, 1+scale, size=X.shape[1])\n",
        "        X_new = X[i] * adjustment\n",
        "        X_augmented = np.vstack((X_augmented, X_new))\n",
        "\n",
        "    return X_augmented\n",
        "\n",
        "X_train_augmented = augment_data(X_train_scaled)\n",
        "\n",
        "# initial model\n",
        "xgb_model = xgb.XGBRegressor(tree_method = \"hist\", device = \"cuda\")\n",
        "\n",
        "# feature selection\n",
        "rfe = RFE(estimator=xgb_model, n_features_to_select=100)\n",
        "X_train_rfe = rfe.fit_transform(X_train_augmented, y_train)\n",
        "X_test_rfe = rfe.transform(X_test_scaled)"
      ]
    },
    {
      "cell_type": "code",
      "execution_count": null,
      "metadata": {
        "colab": {
          "base_uri": "https://localhost:8080/"
        },
        "id": "Y1XcHu9TogMt",
        "outputId": "b1dd4e05-de33-4147-e2a8-ba6b16053b6c"
      },
      "outputs": [
        {
          "name": "stdout",
          "output_type": "stream",
          "text": [
            "Fitting 5 folds for each of 100 candidates, totalling 500 fits\n",
            "Optimized MSE on test set: 0.4146386771554573\n",
            "Optimized R^2 on test set: 0.6441134262067201\n"
          ]
        }
      ],
      "source": [
        "param_dist = {\n",
        "    'n_estimators': np.arange(100, 1001, 100),\n",
        "    'learning_rate': [0.01, 0.05, 0.1, 0.2],\n",
        "    'max_depth': np.arange(3, 16, 1),\n",
        "    'subsample': [0.5, 0.7, 0.9],\n",
        "    'colsample_bytree': [0.5, 0.7, 0.9],\n",
        "    'reg_alpha': [0, 0.01, 0.1, 1],\n",
        "    'reg_lambda': [1, 0.01, 0.1, 0]\n",
        "}\n",
        "optimized_model = RandomizedSearchCV(estimator=xgb_model, param_distributions=param_dist, n_iter=100, scoring='neg_mean_squared_error', cv=5, verbose=2, n_jobs=-1, random_state=42)\n",
        "optimized_model.fit(X_train_rfe, y_train)\n",
        "\n",
        "# prediction\n",
        "y_pred = optimized_model.predict(X_test_rfe)\n",
        "\n",
        "# evaluation\n",
        "mse = mean_squared_error(y_test, y_pred)\n",
        "r2 = r2_score(y_test, y_pred)\n",
        "print(f\"Optimized MSE on test set: {mse}\")\n",
        "print(f\"Optimized R^2 on test set: {r2}\")"
      ]
    },
    {
      "cell_type": "code",
      "execution_count": null,
      "metadata": {
        "id": "vBVT9CPX0aGO"
      },
      "outputs": [],
      "source": [
        "# prediction\n",
        "X_no_PLS_rfe = rfe.transform(X_no_PLS_scaled)  \n",
        "y_no_PLS_pred = optimized_model.predict(X_no_PLS_rfe) \n",
        "\n",
        "no_PLS_df['predicted_political_leaning_score'] = y_no_PLS_pred\n",
        "\n",
        "result_df = no_PLS_df[['predicted_political_leaning_score']]\n",
        "\n",
        "result_df.to_csv('./data/temp/features_df_pre_PLS.csv')"
      ]
    },
    {
      "cell_type": "code",
      "execution_count": null,
      "metadata": {},
      "outputs": [],
      "source": [
        "# combine data\n",
        "features_df = pd.read_csv('./data/temp/features_df.csv', index_col=0)\n",
        "with open('./data/temp/politics_users_profile_api2++popular.json', 'r', encoding='utf-8') as file:\n",
        "    politics_users_profile = json.load(file)\n",
        "pre_pbls_df = pd.read_csv('./data/temp/features_df_pre_PLS.csv', index_col=0)\n",
        "\n",
        "for index, row in features_df.iterrows():\n",
        "    if index in pre_pbls_df.index:\n",
        "        features_df.at[index, 'political_leaning_score'] = pre_pbls_df.at[index, 'predicted_political_leaning_score']\n",
        "\n",
        "for user, details in politics_users_profile.items():\n",
        "    if user in pre_pbls_df.index:\n",
        "        details[\"political_leaning_score\"] = pre_pbls_df.loc[user, 'predicted_political_leaning_score']\n",
        "\n",
        "with open('./data/politics_users_profile_api2++PBLS.json', 'w', encoding='utf-8') as file:\n",
        "    json.dump(politics_users_profile, file, ensure_ascii=False, indent=2)\n",
        "\n",
        "features_df.to_csv('./data/features_df_PBLS.csv')"
      ]
    },
    {
      "cell_type": "code",
      "execution_count": null,
      "metadata": {},
      "outputs": [],
      "source": [
        "with open('./data/temp/politics_users_profile_api2++popular.json', 'r', encoding='utf-8') as file:\n",
        "    politics_users_profile_800 = json.load(file)\n",
        "\n",
        "with open('./data/politics_users_profile_api2++PBLS.json', 'r', encoding='utf-8') as file:\n",
        "    politics_users_profile = json.load(file)"
      ]
    },
    {
      "cell_type": "code",
      "execution_count": null,
      "metadata": {},
      "outputs": [],
      "source": [
        "special_color = \"#F73A5A\"\n",
        "base_color = '#E0D4AE'\n",
        "colors = [\"#E0B531\", \"#DD68BA\", \"#9C87C6\", \"#70D379\", \"#A7457A\", \"#9ADECD\", \"#A8B1DD\", \"#CCD586\", \"#DE8C74\", \"#6C80E5\", \"#C9C9C9\"]"
      ]
    },
    {
      "cell_type": "code",
      "execution_count": null,
      "metadata": {},
      "outputs": [
        {
          "data": {
            "image/png": "[encoded data removed]",
            "text/plain": [
              "<Figure size 625x540 with 3 Axes>"
            ]
          },
          "metadata": {},
          "output_type": "display_data"
        }
      ],
      "source": [
        "valid_scores = [details[\"political_leaning_score\"] for user, details in politics_users_profile.items() if details[\"political_leaning_score\"] != -99]\n",
        "valid_scores_800 = [details[\"political_leaning_score\"] for user, details in politics_users_profile_800.items() if details[\"political_leaning_score\"] != -99]\n",
        "\n",
        "fig, axes = plt.subplots(1, 2, figsize=(6.25, 5.4))\n",
        "fig.subplots_adjust(wspace=0)\n",
        "\n",
        "# Left\n",
        "axes[0].spines['right'].set_visible(False)\n",
        "axes[0].spines['top'].set_visible(True)\n",
        "axes[0].spines['bottom'].set_visible(True)\n",
        "axes[0].spines['left'].set_visible(True)\n",
        "axes[0].yaxis.tick_left()\n",
        "axes[0].set_ylim(-10, 10)\n",
        "axes[0].set_xticks([1])\n",
        "axes[0].set_xticklabels(['2024 Elevation Participants'])\n",
        "\n",
        "# Right\n",
        "axes[1].spines['left'].set_visible(False)\n",
        "axes[1].spines['right'].set_visible(True)\n",
        "axes[1].spines['top'].set_visible(True)\n",
        "axes[1].spines['bottom'].set_visible(True)\n",
        "# axes[1].yaxis.tick_right()\n",
        "axes[1].set_yticks([])\n",
        "axes[1].set_ylim(-10, 10)\n",
        "axes[1].set_xticks([1])\n",
        "axes[1].set_xticklabels(['All Political Participants'])\n",
        "axes[1].yaxis.set_ticklabels([])\n",
        "\n",
        "cmap = plt.get_cmap('coolwarm')\n",
        "\n",
        "# 2024\n",
        "parts_all = axes[0].violinplot(valid_scores_800, showmeans=False, showmedians=True)\n",
        "num_parts_all = len(parts_all['bodies'])\n",
        "for i, pc in enumerate(parts_all['bodies']):\n",
        "    #color = cmap(1 - (i + 1) / num_parts_all)\n",
        "    pc.set_facecolor(colors[0])\n",
        "    pc.set_alpha(1)\n",
        "for partname in ('cbars', 'cmins', 'cmaxes', 'cmedians'):\n",
        "    vp = parts_all[partname]\n",
        "    vp.set_edgecolor('black')\n",
        "    vp.set_alpha(0.5)\n",
        "    vp.set_linewidth(1.5)\n",
        "\n",
        "# all\n",
        "parts_pol = axes[1].violinplot(valid_scores, showmeans=False, showmedians=True)\n",
        "num_parts_pol = len(parts_pol['bodies'])\n",
        "for i, pc in enumerate(parts_pol['bodies']):\n",
        "    #color = cmap(1 - (i + 1) / num_parts_all)\n",
        "    pc.set_facecolor(colors[1])\n",
        "    pc.set_alpha(1)\n",
        "for partname in ('cbars', 'cmins', 'cmaxes', 'cmedians'):\n",
        "    vp = parts_pol[partname]\n",
        "    vp.set_edgecolor('black')\n",
        "    vp.set_alpha(0.5)\n",
        "    vp.set_linewidth(1.5)\n",
        "\n",
        "# Adding the unified Y label\n",
        "fig.add_subplot(111, frameon=False)\n",
        "plt.tick_params(labelcolor='none', top=False, bottom=False, left=False, right=False)\n",
        "plt.ylabel('Political Betting Leaning Score', labelpad=10)\n",
        "\n",
        "# Save the fig\n",
        "plt.savefig('./figure/PBLS_compare.pdf', format='pdf', bbox_inches='tight')\n",
        "\n",
        "plt.show()"
      ]
    }
  ],
  "metadata": {
    "colab": {
      "machine_shape": "hm",
      "provenance": []
    },
    "kernelspec": {
      "display_name": "Python 3",
      "name": "python3"
    },
    "language_info": {
      "name": "python"
    }
  },
  "nbformat": 4,
  "nbformat_minor": 0
}
